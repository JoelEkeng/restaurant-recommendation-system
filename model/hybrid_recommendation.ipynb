
{
 "cells": [
  {
   "cell_type": "markdown",
   "metadata": {},
   "source": [
    "# Hybrid Recommendation System\n",
    "Combining Content-Based Filtering and Collaborative Filtering using SVD.\n"
   ]
  },
  {
   "cell_type": "code",
   "metadata": {},
   "source": [
    "import pandas as pd\n",
    "from surprise import SVD, Dataset, Reader, accuracy\n",
    "from sklearn.metrics.pairwise import cosine_similarity\n",
    "from sklearn.feature_extraction.text import TfidfVectorizer\n",
    "from surprise.model_selection import train_test_split\n",
    "\n",
    "# Load datasets\n",
    "ratings = pd.read_csv('ratings.csv')\n",
    "restaurants = pd.read_csv('restaurants.csv')\n",
    "\n",
    "# Collaborative Filtering\n",
    "reader = Reader(rating_scale=(1, 5))\n",
    "data = Dataset.load_from_df(ratings[['user_id', 'restaurant_id', 'rating']], reader)\n",
    "trainset, testset = train_test_split(data, test_size=0.2)\n",
    "algo = SVD()\n",
    "algo.fit(trainset)\n",
    "predictions = algo.test(testset)\n",
    "print('SVD RMSE:', accuracy.rmse(predictions))\n",
    "\n",
    "# Content-Based Filtering\n",
    "tfidf = TfidfVectorizer(stop_words='english')\n",
    "tfidf_matrix = tfidf.fit_transform(restaurants['description'])\n",
    "cosine_sim = cosine_similarity(tfidf_matrix, tfidf_matrix)\n",
    "\n",
    "def hybrid_recommendation(user_id, restaurant_id, alpha=0.5):\n",
    "    # CF Prediction\n",
    "    cf_pred = algo.predict(user_id, restaurant_id).est\n",
    "    # CBF Prediction\n",
    "    sim_scores = cosine_sim[restaurant_id] if restaurant_id < len(cosine_sim) else [0]*len(cosine_sim)\n",
    "    cbf_pred = sum(sim_scores) / len(sim_scores)\n",
    "    # Hybrid Prediction\n",
    "    return alpha * cf_pred + (1 - alpha) * cbf_pred\n",
    "\n",
    "print('Hybrid Recommendation for user 1 and restaurant 10:', hybrid_recommendation(1, 10))\n"
   ]
  }
 ],
 "metadata": {
  "kernelspec": {
   "display_name": "Python 3",
   "language": "python",
   "name": "python3"
  },
  "language_info": {
   "codemirror_mode": {
    "name": "ipython",
    "version": 3
   },
   "file_extension": ".py",
   "mimetype": "text/x-python",
   "name": "python",
   "nbconvert_exporter": "python",
   "pygments_lexer": "ipython3",
   "version": "3.9.7"
  }
 },
 "nbformat": 4,
 "nbformat_minor": 5
}
